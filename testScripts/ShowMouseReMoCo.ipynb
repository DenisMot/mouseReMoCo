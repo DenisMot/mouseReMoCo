{
 "cells": [
  {
   "cell_type": "markdown",
   "metadata": {},
   "source": [
    "# Visualisation of MouseReMoCo data "
   ]
  },
  {
   "cell_type": "code",
   "execution_count": null,
   "metadata": {},
   "outputs": [],
   "source": [
    "import numpy as np\n",
    "import matplotlib.pyplot as plt\n",
    "\n",
    "fnameDataCSV = \"../data.csv\"\n",
    "fnameMarkerCSV = \"../marker.csv\"\n",
    "fnameXDF = \"/Users/denismottet/Documents/CurrentStudy/sub-P001/ses-S001/eeg/sub-P001_ses-S001_task-Default_run-001_eeg.xdf\""
   ]
  },
  {
   "cell_type": "markdown",
   "metadata": {},
   "source": [
    "## Read the data from the CSV file"
   ]
  },
  {
   "cell_type": "code",
   "execution_count": null,
   "metadata": {},
   "outputs": [],
   "source": [
    "# read the data from the csv file\n",
    "data = np.genfromtxt(fnameDataCSV, delimiter=',', skip_header=4)\n",
    "\n",
    "# find rows full of zeros )\n",
    "rows = np.where(~data.any(axis=1))[0]\n",
    "# replace rows full of zeros with NaN\n",
    "data[rows,:] = np.nan\n",
    "\n",
    "t = data[:,0]\n",
    "x = data[:,1]\n",
    "y = data[:,2]\n",
    "isInside = data[:,3]\n",
    "\n",
    "print(data.shape)"
   ]
  },
  {
   "cell_type": "markdown",
   "metadata": {},
   "source": [
    "## Read the markers from the CSV file"
   ]
  },
  {
   "cell_type": "code",
   "execution_count": null,
   "metadata": {},
   "outputs": [],
   "source": [
    "\n",
    "marker = np.genfromtxt(fnameMarkerCSV, delimiter=',', skip_header=4, dtype=str, invalid_raise  = False)\n",
    "\n",
    "print(marker.shape)\n",
    "    \n",
    "def find_substring(label, strings):\n",
    "    \"\"\"Find all indices of strings that contain a given substring.\"\"\"\n",
    "    iFound = np.array([], dtype=int)\n",
    "    for i in range(0, strings.size):\n",
    "        if label in strings[i]:\n",
    "            iFound = np.append(iFound, i)\n",
    "    return iFound\n",
    "\n",
    "def time_of_label_in_markers(label, markers):\n",
    "    \"\"\"Find the time of markers that contain a given label.\"\"\"\n",
    "    strings = markers[:,2]\n",
    "    time = marker[:,1].astype(float)\n",
    "    iFound = find_substring(label, strings)\n",
    "    time = time[iFound]\n",
    "    return time\n",
    "\n",
    "# find time of marker that contains \"DoPause\" and \"DoRecord\"\n",
    "timeDoPause = time_of_label_in_markers(\"DoPause\", marker)\n",
    "timeDoRecord = time_of_label_in_markers(\"DoRecord\", marker)\n"
   ]
  },
  {
   "cell_type": "markdown",
   "metadata": {},
   "source": [
    "# Read the data from the XDF file "
   ]
  },
  {
   "cell_type": "code",
   "execution_count": null,
   "metadata": {},
   "outputs": [],
   "source": [
    "import pyxdf\n",
    "\n",
    "fnameXDF = \"/Users/denismottet/Documents/CurrentStudy/sub-P001/ses-S001/eeg/sub-P001_ses-S001_task-Default_run-001_eeg_old8.xdf\"\n",
    "fnameXDF = \"/Users/denismottet/Documents/CurrentStudy/sub-P001/ses-S001/eeg/sub-P001_ses-S001_task-Default_run-001_eeg_old5.xdf\"\n",
    "fnameXDF = \"/Users/denismottet/Documents/CurrentStudy/sub-P001/ses-S001/eeg/sub-P001_ses-S001_task-Default_run-001_eeg.xdf\"\n",
    "\n",
    "\n",
    "data, header = pyxdf.load_xdf(fnameXDF)\n",
    "\n",
    "for stream in data:\n",
    "    ts = stream['time_series']\n",
    "    print(stream['info']['name'][0] + \", \" +stream['info']['type'][0])\n",
    "    if isinstance(ts, list):\n",
    "        print(\"\\t \" + str(len(ts)) + \" items\")\n",
    "    elif isinstance(ts, np.ndarray):\n",
    "        print(\"\\t \" + str(ts.shape) + \" samples\")\n",
    "    \n",
    "    #print(stream['info'])\n",
    "    \n",
    "   \n",
    "for stream in data:\n",
    "    yy = stream['time_series']\n",
    "\n",
    "    if isinstance(yy, list):\n",
    "        # list of strings, draw one vertical line for each marker\n",
    "        for timestamp, marker in zip(stream['time_stamps'], yy):\n",
    "            plt.axvline(x=timestamp)\n",
    "            print(f'Marker \"{marker[0]}\" @ {timestamp:.2f}s')\n",
    "    elif isinstance(yy, np.ndarray):\n",
    "        # numeric data, draw as lines\n",
    "        print(f'Found {stream[\"info\"][\"name\"][0]} stream with {yy.shape[1]} samples')\n",
    "        plt.plot(stream['time_stamps'], yy)\n",
    "    else:\n",
    "        raise RuntimeError('Unknown stream format')\n",
    "\n",
    "plt.show()\n"
   ]
  },
  {
   "cell_type": "markdown",
   "metadata": {},
   "source": [
    "## Plot the data and the markers "
   ]
  },
  {
   "cell_type": "code",
   "execution_count": null,
   "metadata": {},
   "outputs": [],
   "source": [
    "# time in seconds for the plot\n",
    "t0 = t[0]\n",
    "def timeInSec(time):\n",
    "    return (time - t0) / 1000   \n",
    "\n",
    "t_s = timeInSec(t)\n",
    "timeDoPause_s = timeInSec(timeDoPause)\n",
    "timeDoRecord_s = timeInSec(timeDoRecord)\n",
    "\n",
    "# plot the data\n",
    "fig, ax = plt.subplots(1, 1, figsize=(10, 5))\n",
    "\n",
    "ax.plot(t_s, x, \".\", label='x')\n",
    "ax.plot(t_s, y, \".\", label='y')\n",
    "ax.plot(t_s, isInside, label='isInside')\n",
    "ax.set_xlabel('time (s)')\n",
    "ax.set_ylabel('position (px)')\n",
    "\n",
    "def plotMarker(ax, time2plot, label, color='red'):\n",
    "    \"\"\"Plot a marker at the given time \"\"\"\n",
    "    x2plot = np.array([])\n",
    "    y2plot = np.array([])\n",
    "    for i in range(len(time2plot)):\n",
    "        x2plot = np.append(x2plot, [time2plot[i] , time2plot[i], np.nan] )\n",
    "        y2plot = np.append(y2plot, [0, 800, np.nan])\n",
    "        \n",
    "    ax.plot(x2plot, y2plot, label=label, marker='none', color=color, linestyle='--')\n",
    "\n",
    "plotMarker(ax, timeDoPause_s, 'DoPause', color='red')\n",
    "plotMarker(ax, timeDoRecord_s, 'DoRecord', color='blue')\n",
    "\n",
    "ax.legend()\n",
    "\n",
    "plt.show()\n",
    "\n"
   ]
  }
 ],
 "metadata": {
  "kernelspec": {
   "display_name": "base",
   "language": "python",
   "name": "python3"
  },
  "language_info": {
   "codemirror_mode": {
    "name": "ipython",
    "version": 3
   },
   "file_extension": ".py",
   "mimetype": "text/x-python",
   "name": "python",
   "nbconvert_exporter": "python",
   "pygments_lexer": "ipython3",
   "version": "3.9.13"
  },
  "orig_nbformat": 4
 },
 "nbformat": 4,
 "nbformat_minor": 2
}
